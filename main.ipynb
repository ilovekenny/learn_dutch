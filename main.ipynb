{
 "cells": [
  {
   "cell_type": "code",
   "execution_count": null,
   "id": "29209573",
   "metadata": {},
   "outputs": [],
   "source": [
    "import sqlite3\n",
    "from datetime import datetime\n",
    "\n",
    "class WordList:\n",
    "    def __init__(self, db_name=\"language_learning.db\"):\n",
    "        self.db_name = db_name\n",
    "        self.conn = sqlite3.connect(self.db_name)\n",
    "        self.cursor = self.conn.cursor()\n",
    "        self._create_table()\n",
    "        self.table_name = 'words'\n",
    "\n",
    "    def _create_table(self,name='words'):\n",
    "        self.table_name = name\n",
    "        query = f\"\"\" \n",
    "        CREATE TABLE IF NOT EXISTS {self.table_name} (\n",
    "            id INTEGER PRIMARY KEY AUTOINCREMENT,\n",
    "            word TEXT NOT NULL,\n",
    "            translation TEXT NOT NULL,\n",
    "            translation2 TEXT NOT NULL,\n",
    "            notes TEXT,\n",
    "            difficulty INTEGER DEFAULT 1,\n",
    "            date_added TEXT DEFAULT CURRENT_TIMESTAMP\n",
    "        );\n",
    "        \"\"\"\n",
    "        self.cursor.execute(query)\n",
    "        self.conn.commit()\n",
    "    def add_word(self, word, translation, translation2='', notes=None):\n",
    "        # check if the word is already in the list\n",
    "        query = f\"\"\"\n",
    "        SELECT id, word, translation \n",
    "        FROM {self.table_name} \n",
    "        WHERE word = ?;\n",
    "        \"\"\"\n",
    "        self.cursor.execute(query, (word,))\n",
    "        result =  self.cursor.fetchall()\n",
    "        if len(result) == 0:\n",
    "            query = f\"\"\" \n",
    "            INSERT INTO {self.table_name} (word, translation, translation2, notes) \n",
    "            VALUES (?, ?, ?, ?);\n",
    "            \"\"\"\n",
    "            self.cursor.execute(query, (word, translation, translation2, notes))\n",
    "            self.conn.commit()\n",
    "        else:\n",
    "            print(f\"This word: {word} is already in the list.\")\n",
    "    def add_word_input(self):\n",
    "        word = input(\"Word in dutch:\")\n",
    "        translation = input(\"Translation in english:\")\n",
    "        translation2 = input(\"Translation in russian:\")\n",
    "        self.add_word(word, translation, translation2)\n",
    "        \n",
    "    def get_all_words(self):\n",
    "        self.cursor.execute(f\"SELECT id, word, translation, translation2 FROM {self.table_name};\")\n",
    "        return self.cursor.fetchall()\n",
    "    \n",
    "    def delete_word(self, word_id):\n",
    "        self.cursor.execute(f\"DELETE FROM {self.table_name} WHERE id = ?;\", (word_id,))\n",
    "        self.conn.commit()\n",
    "\n",
    "    def empty_the_list(self):\n",
    "        full_list = self.get_all_words()\n",
    "        for i, item in enumerate(full_list):\n",
    "            self.delete_word(item[0])\n",
    "        \n",
    "    \n",
    "    def search_word(self, keyword):\n",
    "        query = f\"\"\"\n",
    "        SELECT id, word, translation, translation2\n",
    "        FROM {self.table_name} \n",
    "        WHERE word LIKE ? OR translation LIKE ? OR translation2 LIKE ?;\n",
    "        \"\"\"\n",
    "        self.cursor.execute(query, (keyword, keyword, keyword))\n",
    "        return self.cursor.fetchall()\n",
    "    \n",
    "    def ingest_list(self, words_list):\n",
    "        for item in words_list:\n",
    "            self.add_word(item[0],item[1],item[2])\n"
   ]
  },
  {
   "cell_type": "code",
   "execution_count": null,
   "id": "a60f051a",
   "metadata": {},
   "outputs": [],
   "source": [
    "class Learning:\n",
    "    def __int__(self, words_list):\n",
    "        self.status = 0\n",
    "    # def CardsLearning(self):\n"
   ]
  },
  {
   "cell_type": "code",
   "execution_count": null,
   "id": "73677604",
   "metadata": {},
   "outputs": [],
   "source": [
    "a = WordList()"
   ]
  },
  {
   "cell_type": "code",
   "execution_count": 137,
   "id": "8d1edbe3",
   "metadata": {},
   "outputs": [],
   "source": [
    "a.add_word_input()"
   ]
  },
  {
   "cell_type": "code",
   "execution_count": 138,
   "id": "71488a35",
   "metadata": {},
   "outputs": [],
   "source": [
    "a.empty_the_list()\n"
   ]
  },
  {
   "cell_type": "code",
   "execution_count": 78,
   "id": "b5adc1c7",
   "metadata": {},
   "outputs": [
    {
     "data": {
      "text/plain": [
       "[]"
      ]
     },
     "execution_count": 78,
     "metadata": {},
     "output_type": "execute_result"
    }
   ],
   "source": [
    "b = a.search_word('de auto')\n",
    "b"
   ]
  },
  {
   "cell_type": "code",
   "execution_count": 140,
   "id": "dca8d645",
   "metadata": {},
   "outputs": [
    {
     "data": {
      "text/plain": [
       "[(122, 'fel', 'bright', 'яркий'),\n",
       " (123,\n",
       "  'telkens',\n",
       "  'each time, every time, again and again',\n",
       "  'каждый раз, снова и снова'),\n",
       " (124, 'het suizen', 'whistling', 'свист, шум, шипение'),\n",
       " (125, 'het geruis', 'rustling', 'шорох'),\n",
       " (126, 'vergissen', 'to be mistaken', 'ошибаться'),\n",
       " (127, 'het zuiden', 'south', 'юг'),\n",
       " (128, 'bewijzen', 'to prove', 'доказывать'),\n",
       " (129, 'de nagel', 'nail', 'ноготь'),\n",
       " (130, 'het tikken', 'ticking', 'стук, тиканье'),\n",
       " (131, 'het geweld', 'violence', 'насилие'),\n",
       " (132, 'verblinden', 'to blind', 'ослеплять'),\n",
       " (133, 'vertragen', 'to slow down', 'замедлять'),\n",
       " (134, 'opschrikken', 'to startle', 'вздрагивать'),\n",
       " (135, 'huiveren', 'to shiver', 'дрожать'),\n",
       " (136, 'uitdoven', 'to extinguish', 'гасить'),\n",
       " (137, 'aangeven', 'to indicate, to report', 'указать, сообщать'),\n",
       " (138, 'benaderen', 'to approach', 'приближаться'),\n",
       " (139, 'ongepast', 'inappropriate', 'неуместный'),\n",
       " (140,\n",
       "  'duiden',\n",
       "  'to point at, to indicate, to interpret',\n",
       "  'указывать, интерпретировать'),\n",
       " (141, 'het gezeik', 'whining', 'грызня'),\n",
       " (142, 'aannemen', 'to assume', 'предполагать'),\n",
       " (143, 'de richting', 'direction', 'направление'),\n",
       " (144, 'ik heb gelijk', 'I am right', 'Я прав'),\n",
       " (145, 'de hamer', 'hammer', 'молоток'),\n",
       " (146, 'verheugen op', 'to look forward to', 'с нетерпением ждать'),\n",
       " (147, 'richten op', 'to aim at, to focus on', 'нацеливаться на'),\n",
       " (148, 'solliciteren naar', 'to apply for', 'устраиваться на работу'),\n",
       " (149, 'Ik ben benieuwd naar', 'I am curious about', 'Мне интересно'),\n",
       " (150,\n",
       "  'Ik ben jaloers op de auto van Carlos',\n",
       "  \"I am jealous of Carlos's car\",\n",
       "  'Я завидую машине Карлоса'),\n",
       " (151,\n",
       "  'zij rekent op de hulp',\n",
       "  'she counts on the help',\n",
       "  'Она рассчитывает на помощь'),\n",
       " (152,\n",
       "  'ik ben blij met de resultaten',\n",
       "  'I am happy with the results',\n",
       "  'Я доволен результатами'),\n",
       " (153, 'ze is boos op hem', 'she is angry on him', 'Она злится на него'),\n",
       " (154,\n",
       "  'ze werkt bij een groot bedrijf',\n",
       "  'she works in a big company',\n",
       "  'Она работает в большой компании'),\n",
       " (155,\n",
       "  'Ze is bang voor de hond',\n",
       "  'She is afraid of the dog',\n",
       "  'Она боится собаки'),\n",
       " (156,\n",
       "  'Ze heeft een hekel aan eieren',\n",
       "  'She hates eggs',\n",
       "  'Она ненавидит яйца'),\n",
       " (157,\n",
       "  'Ze is verliefd op haar vriend',\n",
       "  'She is in love with her boyfriend',\n",
       "  'Она влюблена в своего парня'),\n",
       " (158,\n",
       "  'Wij hopen op een snelle oplossing',\n",
       "  'We hope a fast solution',\n",
       "  'Мы надеемся на быстрое решение'),\n",
       " (159,\n",
       "  'Ze is goed in Frans.',\n",
       "  'She is good at French',\n",
       "  'Она хорошо говорит по-французски'),\n",
       " (160, 'Ze heeft behoefte aan rust', 'She needs rest', 'Ей нужен отдых'),\n",
       " (161,\n",
       "  'Ze heeft geen vertrouwen in de situatie',\n",
       "  'She has no confidence in the situation',\n",
       "  'У нее нет уверенности в ситуации'),\n",
       " (162,\n",
       "  'ik ben gek op deze muziek',\n",
       "  'I am creazy about this music',\n",
       "  'Я без ума от этой музыки'),\n",
       " (163,\n",
       "  'Wij zijn afhankelijk van de overheid',\n",
       "  'We arenindependent from the government',\n",
       "  'Мы зависимы от правительства'),\n",
       " (164, 'vanzelfsprekend', 'obviously', 'очевидно'),\n",
       " (165, 'schuiven', 'to slide', 'Сдвинуть'),\n",
       " (166, 'gunstig', 'favourable', 'Благопричтный, Выгодный'),\n",
       " (167, 'De kerel', 'guy from reception', 'парень с ресепшена'),\n",
       " (168, 'klimmen', 'to climb', 'лезть'),\n",
       " (169, 'beseffen', 'to realise', 'Осознавать'),\n",
       " (170, 'het gesnurk', 'snoring', 'Храп'),\n",
       " (171, 'de walm', 'smoke', 'Дымка'),\n",
       " (172, 'De weerzin', 'aversion, repulsion', 'Отвращение'),\n",
       " (173, 'vervallen', 'to expire', 'Просрочить'),\n",
       " (174, 'versleten', 'worn out', 'Изношенный'),\n",
       " (175, 'verzoenen', 'to reconcile', 'Примирять, смириться'),\n",
       " (176, 'loeien', 'mooing', 'Реветь, рычать'),\n",
       " (177, 'voorbereiden', 'to prepare', 'подготавливать'),\n",
       " (178, 'verzinnen', 'to imagine, make up', 'Сочинять'),\n",
       " (179, 'Ze vraagt om hulp', 'She asks for help', 'Она просит о помощи'),\n",
       " (180, 'invoeren', 'to introduce, to import, to enter', 'вводить'),\n",
       " (181, 'ontlasten', 'to relieve', 'разгрузить'),\n",
       " (182, 'de luchthaven', 'airport', 'аэропорт'),\n",
       " (183, 'de opdracht', 'assignment, task', 'задание'),\n",
       " (184, 'de veter', 'shoelace', 'Шнурок'),\n",
       " (185, 'ondersteboven', 'upside down', 'вверх дном'),\n",
       " (186, 'De dop', 'cap', 'Крышка, пробка')]"
      ]
     },
     "execution_count": 140,
     "metadata": {},
     "output_type": "execute_result"
    }
   ],
   "source": [
    "c = a.get_all_words()\n",
    "c"
   ]
  },
  {
   "cell_type": "code",
   "execution_count": 47,
   "id": "69f1489c",
   "metadata": {},
   "outputs": [],
   "source": [
    "from IPython.display import Markdown\n",
    "\n",
    "# Beautiful printing of the text\n",
    "def to_markdown(text):\n",
    "  text = text.replace('•', '  *')\n",
    "  return Markdown(textwrap.indent(text, '> ', predicate=lambda _: True))\n"
   ]
  },
  {
   "cell_type": "code",
   "execution_count": 81,
   "id": "8e5a1934",
   "metadata": {},
   "outputs": [],
   "source": [
    "import glob\n",
    "import os\n",
    "import re\n",
    "import pathlib\n",
    "import time\n",
    "import textwrap\n",
    "import google.generativeai as genai\n",
    "with open(\"var.txt\",\"r\") as f:\n",
    "    var = f.read()\n",
    "genai.configure(api_key=var)\n",
    "model = genai.GenerativeModel('models/gemini-2.0-flash')"
   ]
  },
  {
   "cell_type": "code",
   "execution_count": null,
   "id": "736484c5",
   "metadata": {},
   "outputs": [],
   "source": [
    "to_markdown(chat_completion.candidates[0].content.parts[0].text)"
   ]
  },
  {
   "cell_type": "code",
   "execution_count": 131,
   "id": "0f84fa8b",
   "metadata": {},
   "outputs": [],
   "source": [
    "with open('input3.txt', 'r') as f:\n",
    "    data = f.read()\n"
   ]
  },
  {
   "cell_type": "code",
   "execution_count": null,
   "id": "58938451",
   "metadata": {},
   "outputs": [],
   "source": [
    "\n",
    "prompt_text = \"\"\"\n",
    "Here is a list of dutch words and short phrases. Some of them are translated to english and russian, some only to english. \n",
    "Add missing translations of dutch words to english or to russian columns and return it in json format. The json format should be the following:\n",
    "{'althans': {'english': 'at least', 'russian': 'по крайней мере'},\n",
    "'overleggen': {'english': 'to discuss', 'russian': 'обсуждать'},\n",
    "'het hoorcollege': {'english': 'lecture', 'russian': 'лекция'},\n",
    "}\n",
    "The words: \"\"\" \n",
    "chat_completion = model.generate_content(prompt_text + data)\n",
    "\n"
   ]
  },
  {
   "cell_type": "code",
   "execution_count": 133,
   "id": "30079bcc",
   "metadata": {},
   "outputs": [],
   "source": [
    "import json\n",
    "raw_string = chat_completion.candidates[0].content.parts[0].text\n",
    "\n",
    "# 1. Clean up the Markdown code block wrappers\n",
    "clean_json = raw_string.strip().removeprefix('```json').removesuffix('```').strip()\n",
    "\n",
    "# 2. Parse it with json.loads()\n",
    "data = json.loads(clean_json)\n",
    "\n",
    "# 3. Convert it to a 2D lis\n",
    "words_list = []\n",
    "for dutch_word in data:\n",
    "    dutch = dutch_word\n",
    "    try:\n",
    "      english = data[dutch_word]['english']\n",
    "    except KeyError:\n",
    "       english = ''\n",
    "    try: \n",
    "      russian = data[dutch_word]['russian']\n",
    "    except KeyError:\n",
    "       russian = ''\n",
    "    words_list.append([dutch, english, russian]) \n",
    "\n"
   ]
  },
  {
   "cell_type": "code",
   "execution_count": 139,
   "id": "c5b62d29",
   "metadata": {},
   "outputs": [],
   "source": [
    "a.ingest_list(words_list=words_list)"
   ]
  }
 ],
 "metadata": {
  "kernelspec": {
   "display_name": ".env",
   "language": "python",
   "name": "python3"
  },
  "language_info": {
   "codemirror_mode": {
    "name": "ipython",
    "version": 3
   },
   "file_extension": ".py",
   "mimetype": "text/x-python",
   "name": "python",
   "nbconvert_exporter": "python",
   "pygments_lexer": "ipython3",
   "version": "3.11.12"
  }
 },
 "nbformat": 4,
 "nbformat_minor": 5
}
